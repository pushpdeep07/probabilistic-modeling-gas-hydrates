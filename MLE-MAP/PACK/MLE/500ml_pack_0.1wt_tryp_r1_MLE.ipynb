{
 "cells": [
  {
   "cell_type": "code",
   "execution_count": 10,
   "id": "bbbc4858-921b-448f-b72f-30af0a7652bd",
   "metadata": {},
   "outputs": [],
   "source": [
    "import numpy as np\n",
    "import pandas as pd\n",
    "from scipy.optimize import minimize\n",
    "import matplotlib.pyplot as plt"
   ]
  },
  {
   "cell_type": "code",
   "execution_count": 11,
   "id": "465201db-2f15-4802-9687-1cd4ac435d84",
   "metadata": {},
   "outputs": [
    {
     "name": "stdout",
     "output_type": "stream",
     "text": [
      "Pe_full (MPa): [7.369038 7.368971 7.368926 7.360007 7.359843]\n",
      "t_full  (h) : [0.         0.00111111 0.00222222 0.00333333 0.00444444]\n"
     ]
    }
   ],
   "source": [
    "# ─── 1. LOAD DATA FROM EXCEL ────────────────────────────────────────────────────\n",
    "# 1) Telling pandas “there is no header row” so every row is data, and columns get numeric names 0,1,2,...\n",
    "df = pd.read_excel(\n",
    "    r'C:\\Users\\Dell\\data_reactor\\500 ml\\TRYPTOPHAN\\0.1 wt %\\PACK\\pack_0.1wt_tryp_r1.xlsx',\n",
    "    sheet_name=0,\n",
    "    header=None\n",
    ")\n",
    "\n",
    "# 2) Pressure and Time\n",
    "pressure_kPa = df[6]\n",
    "time_s       = df[8]\n",
    "\n",
    "# 3) Drop the rows that failed to parse as numbers\n",
    "mask = pressure_kPa.notna() & time_s.notna()\n",
    "pressure_kPa = pressure_kPa[mask].astype(float)\n",
    "time_s       = time_s[mask].astype(float)\n",
    "\n",
    "# 4) Units conversion\n",
    "Pe_full = pressure_kPa.to_numpy() / 10.0     # → MPa\n",
    "t_full  = time_s.to_numpy()       / 3600.0  # → hours\n",
    "\n",
    "# Quick check\n",
    "print(\"Pe_full (MPa):\", Pe_full[:5])\n",
    "print(\"t_full  (h) :\", t_full[:5])"
   ]
  },
  {
   "cell_type": "code",
   "execution_count": 12,
   "id": "02c3b755-5c14-42cd-9a51-afadaa422f9f",
   "metadata": {},
   "outputs": [],
   "source": [
    "# ─── 2. CONSTANTS & THERMODYNAMIC PREP ─────────────────────────────────────────\n",
    "Ar = np.pi * (0.075 ** 2) / 4\n",
    "R  = 8.314\n",
    "\n",
    "# peter atkins - physical chemistry\n",
    "# Introduction to chemical engineering thermodynamics by J.M. Smith - page - 650+\n",
    "Tc, Pc, w, T = 190.6, 4.599, 0.012, 274.15\n",
    "Tr = T / Tc\n",
    "\n",
    "# compressibility factor z (Pitzer)\n",
    "a = (0.083 - 0.422*(Tc/T)**1.6)*(Tc/Pc)\n",
    "b = w*(0.139 - 0.172*(Tc/T)**4.2)*(Tc/Pc)\n",
    "z = 1 + a*(Pe_full/T) + b*(Pe_full/T)\n",
    "\n",
    "# experimental moles (nexp)\n",
    "v = 0.3673739087\n",
    "n_water = 6.829844194\n",
    "nd    = 5.75\n",
    "nexp = ((7500000)/(0.828026351079252) - (Pe_full*1e6)/(z))*(v/(R*T)) # here nexp is in millimoles\n",
    "nexp_full = ((nexp/n_water)*nd)/10\n",
    "\n",
    "# fugacity coefficent & potentials (hydrate & liquid)\n",
    "# pengrobinson eqn\n",
    "m     = 0.37464 + 1.54226*w - 0.26992*w**2\n",
    "alfa  = (m*(1 - np.sqrt(Tr)))**2\n",
    "arel  = ((0.45724*(R*Tc)**2)/((Pc)*alfa))\n",
    "brel  = 0.0778*R*Tc/(Pc)\n",
    "A     = arel*(Pe_full)/(R*T)**2\n",
    "B     = brel*(Pe_full)/(R*T)\n",
    "fh    = np.exp(z - 1 - np.log(z - B)\n",
    "             - A/(2*np.sqrt(2*B))\n",
    "             * np.log((z+(1+np.sqrt(2))*B)/(z+(1-np.sqrt(2))*B)))\n",
    "fg    = fh * Pe_full\n",
    "\n",
    "# adsorption term (van der Waals p-model)\n",
    "AsmL, BsmL = 3.7237e3, 2.7088e-3\n",
    "Alar, Blar = 1.8372e2, 2.7379e-3\n",
    "Csmall     = (AsmL/T)*np.exp(BsmL/T)\n",
    "Clarge     = (Alar/T)*np.exp(Blar/T)\n",
    "hydrate_pot      = (1/23)*np.log(1 + (Csmall*fg)) + (3/23)*np.log(1 + (Clarge*fg))\n",
    "\n",
    "# thermochemical term\n",
    "muo   = 1120\n",
    "fterm = muo/(R*273.15)\n",
    "#enthalpy = (\n",
    " #   -4297*(1/273.15 - 1/T)\n",
    "  #  - 34.583*(np.log(T/273.15) + 273.15/T - 1)\n",
    "   # + 0.189*(\n",
    "    #    273.15*(np.log(273.15)-np.log(T))\n",
    "     #   + (273.15**2)/(2*T + T/2 - 273.15)\n",
    "#    )\n",
    "#)\n",
    "enthalpy = (1/8.314)*(np.log(T/273.15)*(-34.583 - 0.189*273.15) + (T - 273.15)*(0.189/2 + (0.189/2)*(273.15/T) + 34.583/T - 4297/(T*273.15)))\n",
    "volume = (4.5959e-6*Pe_full*1e6)/(R*273.15)\n",
    "gamma  = 1\n",
    "xw     = (\n",
    "    1\n",
    "    - fg*np.exp(-15.8262 + 1559.0631/T)\n",
    "         * np.exp(-(32*(Pe_full*9.86923 - 1))/(82.06*T))\n",
    ")\n",
    "liquid_pot = fterm - enthalpy + volume - np.log(xw*gamma)\n",
    "\n",
    "# ΔF and RT_fit\n",
    "DF_full = liquid_pot - hydrate_pot\n",
    "RT_fit  = R * 274.15"
   ]
  },
  {
   "cell_type": "code",
   "execution_count": 13,
   "id": "a9a57789-ab90-495e-8044-cbaa43217cf4",
   "metadata": {},
   "outputs": [],
   "source": [
    "# ─── 3. TRAIN/TEST SPLIT ───────────────────────────────────────────────────────\n",
    "np.random.seed(0)\n",
    "N = len(nexp_full)\n",
    "perm = np.random.permutation(N)\n",
    "train_idx = perm[:int(0.8*N)]\n",
    "test_idx  = perm[int(0.8*N):]\n",
    "t_train, DF_train, y_train = t_full[train_idx], DF_full[train_idx], nexp_full[train_idx]\n",
    "t_test,  DF_test,  y_test  = t_full[test_idx],  DF_full[test_idx],  nexp_full[test_idx]"
   ]
  },
  {
   "cell_type": "code",
   "execution_count": 14,
   "id": "02e61ee8-9baf-49f6-8962-de78a5ad5952",
   "metadata": {},
   "outputs": [],
   "source": [
    "# ─── 4. MODEL & NEG LOG-LIKELIHOOD ─────────────────────────────────────────────\n",
    "def model_moles(params, DF, t):\n",
    "    p, q, r, s = params\n",
    "    expo = np.exp(-r/(R*274.15))\n",
    "    term = (p/nd)*(1 - np.exp(-nd*q*expo*(s/(R*274.15))*Ar*DF*t*3600))\n",
    "    return term*nd*100\n",
    "\n",
    "def neg_log_likelihood(theta, DF, t, y):\n",
    "    p, q, r, s, log_sigma = theta\n",
    "    sigma = np.exp(log_sigma)\n",
    "    y_pred = model_moles((p,q,r,s), DF, t)\n",
    "    resid = y - y_pred\n",
    "    N = len(y)\n",
    "    return 0.5*N*np.log(2*np.pi*sigma**2) + 0.5*np.sum(resid**2)/sigma**2"
   ]
  },
  {
   "cell_type": "code",
   "execution_count": 15,
   "id": "89326936-586d-4a9c-b014-4ccb7b637636",
   "metadata": {},
   "outputs": [
    {
     "name": "stdout",
     "output_type": "stream",
     "text": [
      "=== MLE Parameters ===\n",
      "p=0.7333, q=2308.77, r=941.48, s=0.0816, σ=3.0150\n"
     ]
    }
   ],
   "source": [
    "# ─── 5. MLE FIT ────────────────────────────────────────────────────────────────\n",
    "x0 = [0.1,100.0,1000.0,0.1,np.log(1.0)]\n",
    "bounds = [(0,1),(10,1e5),(1,1e6),(0,1),(np.log(1e-6),np.log(1e2))]\n",
    "res = minimize(neg_log_likelihood, x0, args=(DF_train,t_train,y_train), bounds=bounds, method='L-BFGS-B')\n",
    "p_mle, q_mle, r_mle, s_mle, log_sigma_mle = res.x\n",
    "\n",
    "# ─── 6. PRINT MLE PARAMS ───────────────────────────────────────────────────────\n",
    "sigma_mle = np.exp(log_sigma_mle)\n",
    "print(\"=== MLE Parameters ===\")\n",
    "print(f\"p={p_mle:.4f}, q={q_mle:.2f}, r={r_mle:.2f}, s={s_mle:.4f}, σ={sigma_mle:.4f}\")"
   ]
  },
  {
   "cell_type": "code",
   "execution_count": 16,
   "id": "e883f1c0-96fe-41f6-9f27-eb5f612bac20",
   "metadata": {},
   "outputs": [
    {
     "name": "stdout",
     "output_type": "stream",
     "text": [
      "\n",
      "=== TRAINING SET METRICS ===\n",
      "R²    = 0.9661\n",
      "MSE   = 9.0903\n",
      "RMSE  = 3.0150\n",
      "Acc%  = 94.41%\n",
      "\n",
      "=== TEST SET METRICS ===\n",
      "R²    = 0.9584\n",
      "MSE   = 9.1214\n",
      "RMSE  = 3.0202\n",
      "Acc%  = 94.89%\n"
     ]
    }
   ],
   "source": [
    "# ─── 6. PREDICT & EVALUATE ────────────────────────────────────────────────────\n",
    "# Predictions\n",
    "y_pred_train = model_moles((p_mle,q_mle,r_mle,s_mle), DF_train, t_train)\n",
    "y_pred_test  = model_moles((p_mle,q_mle,r_mle,s_mle), DF_test,  t_test)\n",
    "\n",
    "# Metrics helpers\n",
    "def mse(y_true, y_pred): return np.mean((y_true-y_pred)**2)\n",
    "def rmse(y_true,y_pred): return np.sqrt(mse(y_true,y_pred))\n",
    "def r2(y_true, y_pred):\n",
    "    ss_res = np.sum((y_true-y_pred)**2)\n",
    "    ss_tot = np.sum((y_true - y_true.mean())**2)\n",
    "    return 1 - ss_res/ss_tot\n",
    "def accuracy_pct(y_true,y_pred):\n",
    "    # defines accuracy = 100% - MAPE\n",
    "    mape = np.mean(np.abs((y_true - y_pred)/y_true)) * 100\n",
    "    return 100 - mape\n",
    "\n",
    "# Compute metrics\n",
    "print(\"\\n=== TRAINING SET METRICS ===\")\n",
    "print(f\"R²    = {r2(y_train, y_pred_train):.4f}\")\n",
    "print(f\"MSE   = {mse(y_train, y_pred_train):.4f}\")\n",
    "print(f\"RMSE  = {rmse(y_train, y_pred_train):.4f}\")\n",
    "print(f\"Acc%  = {accuracy_pct(y_train, y_pred_train):.2f}%\")\n",
    "\n",
    "print(\"\\n=== TEST SET METRICS ===\")\n",
    "print(f\"R²    = {r2(y_test, y_pred_test):.4f}\")\n",
    "print(f\"MSE   = {mse(y_test, y_pred_test):.4f}\")\n",
    "print(f\"RMSE  = {rmse(y_test, y_pred_test):.4f}\")\n",
    "print(f\"Acc%  = {accuracy_pct(y_test, y_pred_test):.2f}%\")"
   ]
  },
  {
   "cell_type": "code",
   "execution_count": 17,
   "id": "8e2949fc-7d2e-4bb7-bb3a-de5331e2809f",
   "metadata": {},
   "outputs": [
    {
     "name": "stdout",
     "output_type": "stream",
     "text": [
      "t90: 3311.4s (0.920h) to reach 65.99%\n",
      "Initial slope: 97.1394 %/hr\n",
      "Final conversion: 73.3217 %\n"
     ]
    }
   ],
   "source": [
    "# ─── 7. ADDITIONAL METRICS & PLOT ───────────────────────────────────────────────\n",
    "tt = np.linspace(0, t_full.max(), 1000)\n",
    "DF_interp = np.interp(tt, t_full, DF_full)\n",
    "y_fit = model_moles((p_mle,q_mle,r_mle,s_mle), DF_interp, tt)\n",
    "\n",
    "# t90: 90% of max fit\n",
    "d_max = y_fit.max()\n",
    "if d_max > 0:\n",
    "    from numpy import interp as npi\n",
    "    target = 0.9 * d_max\n",
    "    t90 = npi(target, y_fit, tt)\n",
    "    print(f\"t90: {t90*3600:.1f}s ({t90:.3f}h) to reach {target:.2f}%\")\n",
    "\n",
    "# initial slope (%/hr) over first 900s\n",
    "mask = (t_full*3600) <= 900\n",
    "if mask.sum() > 1:\n",
    "    slope = np.polyfit(t_full[mask], nexp_full[mask], 1)[0]\n",
    "    print(f\"Initial slope: {slope:.4f} %/hr\")\n",
    "\n",
    "# final conversion (<100%)\n",
    "final_conv = y_fit[-1]\n",
    "print(f\"Final conversion: {final_conv:.4f} %\")\n"
   ]
  },
  {
   "cell_type": "code",
   "execution_count": 18,
   "id": "ba3054e7-13c8-4d90-8826-a2f5e1d97665",
   "metadata": {},
   "outputs": [
    {
     "data": {
      "image/png": "[encoded data removed]",
      "text/plain": [
       "<Figure size 800x500 with 1 Axes>"
      ]
     },
     "metadata": {},
     "output_type": "display_data"
    }
   ],
   "source": [
    "# ─── 8. PLOT ───────────────────────────────────────────────────────────────────\n",
    "plt.figure(figsize=(8,5))\n",
    "plt.scatter(t_full, nexp_full, color='red', alpha=0.5, label='Exp (all)')\n",
    "plt.plot(tt, y_fit, color='black', lw=2, label='MLE fit')\n",
    "if y_fit.max() >= target:\n",
    "    plt.axvline(t90, linestyle='--', label=f't90 = {t90*3600:.0f}s')\n",
    "plt.xlabel('Time (hours)')\n",
    "plt.ylabel('Water Conversion (%)')\n",
    "plt.title('MLE Fit and Conversion Metrics')\n",
    "plt.legend()\n",
    "plt.tight_layout()\n",
    "plt.show()"
   ]
  },
  {
   "cell_type": "code",
   "execution_count": null,
   "id": "9015ebd9-5404-401e-91e3-6d3576b68eb3",
   "metadata": {},
   "outputs": [],
   "source": []
  },
  {
   "cell_type": "code",
   "execution_count": null,
   "id": "f205133b-cad1-4947-bab4-adf15c776de8",
   "metadata": {},
   "outputs": [],
   "source": []
  }
 ],
 "metadata": {
  "kernelspec": {
   "display_name": "Python 3 (ipykernel)",
   "language": "python",
   "name": "python3"
  },
  "language_info": {
   "codemirror_mode": {
    "name": "ipython",
    "version": 3
   },
   "file_extension": ".py",
   "mimetype": "text/x-python",
   "name": "python",
   "nbconvert_exporter": "python",
   "pygments_lexer": "ipython3",
   "version": "3.12.7"
  }
 },
 "nbformat": 4,
 "nbformat_minor": 5
}
