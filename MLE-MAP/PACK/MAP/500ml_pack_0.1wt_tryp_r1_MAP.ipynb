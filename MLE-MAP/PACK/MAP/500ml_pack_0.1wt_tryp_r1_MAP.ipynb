{
 "cells": [
  {
   "cell_type": "code",
   "execution_count": 1,
   "id": "2e76a80e-9778-4d8b-b3bf-a41ea3af34fa",
   "metadata": {},
   "outputs": [],
   "source": [
    "import numpy as np\n",
    "import pandas as pd\n",
    "from scipy.optimize import minimize\n",
    "import matplotlib.pyplot as plt"
   ]
  },
  {
   "cell_type": "code",
   "execution_count": 2,
   "id": "8a423a4a-9dc3-4ff5-98ad-dc4bcf5ac601",
   "metadata": {},
   "outputs": [
    {
     "name": "stdout",
     "output_type": "stream",
     "text": [
      "Pe_full (MPa): [7.369038 7.368971 7.368926 7.360007 7.359843]\n",
      "t_full  (h) : [0.         0.00111111 0.00222222 0.00333333 0.00444444]\n"
     ]
    }
   ],
   "source": [
    "# ─── 1. LOAD DATA FROM EXCEL ────────────────────────────────────────────────────\n",
    "# 1) Telling pandas “there is no header row” so every row is data, and columns get numeric names 0,1,2,...\n",
    "df = pd.read_excel(\n",
    "    r'C:\\Users\\Dell\\data_reactor\\500 ml\\TRYPTOPHAN\\0.1 wt %\\PACK\\pack_0.1wt_tryp_r1.xlsx',\n",
    "    sheet_name=0,\n",
    "    header=None\n",
    ")\n",
    "\n",
    "# 2) Pressure and Time\n",
    "pressure_kPa = df[6]\n",
    "time_s       = df[8]\n",
    "\n",
    "# 3) Drop the rows that failed to parse as numbers\n",
    "mask = pressure_kPa.notna() & time_s.notna()\n",
    "pressure_kPa = pressure_kPa[mask].astype(float)\n",
    "time_s       = time_s[mask].astype(float)\n",
    "\n",
    "# 4) Units conversion\n",
    "Pe_full = pressure_kPa.to_numpy() / 10.0     # → MPa\n",
    "t_full  = time_s.to_numpy()       / 3600.0  # → hours\n",
    "\n",
    "# Quick check\n",
    "print(\"Pe_full (MPa):\", Pe_full[:5])\n",
    "print(\"t_full  (h) :\", t_full[:5])"
   ]
  },
  {
   "cell_type": "code",
   "execution_count": 3,
   "id": "8ff2f4fb-5638-4f75-ab4f-8776b59fb83e",
   "metadata": {},
   "outputs": [],
   "source": [
    "# ─── 2. CONSTANTS & THERMODYNAMIC PREP ─────────────────────────────────────────\n",
    "Ar = np.pi * (0.075 ** 2) / 4\n",
    "R  = 8.314\n",
    "\n",
    "# peter atkins - physical chemistry\n",
    "# Introduction to chemical engineering thermodynamics by J.M. Smith - page - 650+\n",
    "Tc, Pc, w, T = 190.6, 4.599, 0.012, 274.15\n",
    "Tr = T / Tc\n",
    "\n",
    "# compressibility factor z (Pitzer)\n",
    "a = (0.083 - 0.422*(Tc/T)**1.6)*(Tc/Pc)\n",
    "b = w*(0.139 - 0.172*(Tc/T)**4.2)*(Tc/Pc)\n",
    "z = 1 + a*(Pe_full/T) + b*(Pe_full/T)\n",
    "\n",
    "# experimental moles (nexp)\n",
    "v = 0.3673739087\n",
    "n_water = 6.829844194\n",
    "nd    = 5.75\n",
    "nexp = ((7500000)/(0.828026351079252) - (Pe_full*1e6)/(z))*(v/(R*T)) # here nexp is in millimoles\n",
    "nexp_full = ((nexp/n_water)*nd)/10\n",
    "\n",
    "# fugacity coefficent & potentials (hydrate & liquid)\n",
    "# pengrobinson eqn\n",
    "m     = 0.37464 + 1.54226*w - 0.26992*w**2\n",
    "alfa  = (m*(1 - np.sqrt(Tr)))**2\n",
    "arel  = ((0.45724*(R*Tc)**2)/((Pc)*alfa))\n",
    "brel  = 0.0778*R*Tc/(Pc)\n",
    "A     = arel*(Pe_full)/(R*T)**2\n",
    "B     = brel*(Pe_full)/(R*T)\n",
    "fh    = np.exp(z - 1 - np.log(z - B)\n",
    "             - A/(2*np.sqrt(2*B))\n",
    "             * np.log((z+(1+np.sqrt(2))*B)/(z+(1-np.sqrt(2))*B)))\n",
    "fg    = fh * Pe_full\n",
    "\n",
    "# adsorption term (van der Waals p-model)\n",
    "AsmL, BsmL = 3.7237e3, 2.7088e-3\n",
    "Alar, Blar = 1.8372e2, 2.7379e-3\n",
    "Csmall     = (AsmL/T)*np.exp(BsmL/T)\n",
    "Clarge     = (Alar/T)*np.exp(Blar/T)\n",
    "hydrate_pot      = (1/23)*np.log(1 + (Csmall*fg)) + (3/23)*np.log(1 + (Clarge*fg))\n",
    "\n",
    "# thermochemical term\n",
    "muo   = 1120\n",
    "fterm = muo/(R*273.15)\n",
    "#enthalpy = (\n",
    " #   -4297*(1/273.15 - 1/T)\n",
    "  #  - 34.583*(np.log(T/273.15) + 273.15/T - 1)\n",
    "   # + 0.189*(\n",
    "    #    273.15*(np.log(273.15)-np.log(T))\n",
    "     #   + (273.15**2)/(2*T + T/2 - 273.15)\n",
    "#    )\n",
    "#)\n",
    "enthalpy = (1/8.314)*(np.log(T/273.15)*(-34.583 - 0.189*273.15) + (T - 273.15)*(0.189/2 + (0.189/2)*(273.15/T) + 34.583/T - 4297/(T*273.15)))\n",
    "volume = (4.5959e-6*Pe_full*1e6)/(R*273.15)\n",
    "gamma  = 1\n",
    "xw     = (\n",
    "    1\n",
    "    - fg*np.exp(-15.8262 + 1559.0631/T)\n",
    "         * np.exp(-(32*(Pe_full*9.86923 - 1))/(82.06*T))\n",
    ")\n",
    "liquid_pot = fterm - enthalpy + volume - np.log(xw*gamma)\n",
    "\n",
    "# ΔF and RT_fit\n",
    "DF_full = liquid_pot - hydrate_pot\n",
    "RT_fit  = R * 274.15"
   ]
  },
  {
   "cell_type": "code",
   "execution_count": 4,
   "id": "48393266-250c-4117-8a3a-79a84bb7fe7e",
   "metadata": {},
   "outputs": [],
   "source": [
    "# ─── 3. SPLIT INTO TRAIN / TEST ────────────────────────────────────────────────\n",
    "np.random.seed(0)\n",
    "N = len(nexp_full)\n",
    "perm = np.random.permutation(N)\n",
    "train_idx = perm[: int(0.8 * N)]\n",
    "test_idx  = perm[int(0.8 * N):]\n",
    "\n",
    "t_train, DF_train, y_train = t_full[train_idx], DF_full[train_idx], nexp_full[train_idx]\n",
    "t_test,  DF_test,  y_test  = t_full[test_idx],  DF_full[test_idx],  nexp_full[test_idx]"
   ]
  },
  {
   "cell_type": "code",
   "execution_count": 5,
   "id": "9f6c3351-5413-43d2-b50d-53126601b056",
   "metadata": {},
   "outputs": [],
   "source": [
    "# ─── 4. MODEL ──────────────────────────────────────────────────────────────────\n",
    "def model_moles(params, DF, t):\n",
    "    p, q, r, s = params\n",
    "    expo = np.exp(-r / RT_fit)\n",
    "    term = (p / nd) * (1 - np.exp(-nd * q * expo * (s / RT_fit)\n",
    "                                   * Ar * DF * t * 3600))\n",
    "    return term * nd * 100  # % water conversion\n"
   ]
  },
  {
   "cell_type": "code",
   "execution_count": 6,
   "id": "122b83fe-ff1c-4253-baa6-fc00f6dce853",
   "metadata": {},
   "outputs": [],
   "source": [
    "# ─── 5. NEG LOG‑POSTERIOR (MAP) ────────────────────────────────────────────────\n",
    "priors = {\n",
    "    'mean': np.array([0.5, 5000, 20000, 0.5, np.log(1.0)]),\n",
    "    'var' : np.array([0.1**2, 2000**2, 1e4**2, 0.1**2, 1.0**2])\n",
    "}\n",
    "\n",
    "def neg_log_posterior(theta, DF, t, y):\n",
    "    p, q, r, s, log_sigma = theta\n",
    "    sigma = np.exp(log_sigma)\n",
    "    y_pred = model_moles((p,q,r,s), DF, t)\n",
    "    resid  = y - y_pred\n",
    "    N      = len(y)\n",
    "    nll    = 0.5*N*np.log(2*np.pi*sigma**2) + 0.5*np.sum(resid**2)/sigma**2\n",
    "    diff = theta - priors['mean']\n",
    "    nlp  = 0.5 * np.sum(diff**2 / priors['var'])\n",
    "    return nll + nlp"
   ]
  },
  {
   "cell_type": "code",
   "execution_count": 7,
   "id": "83234a39-2c31-4edd-a5b4-fc292913f270",
   "metadata": {},
   "outputs": [
    {
     "name": "stdout",
     "output_type": "stream",
     "text": [
      "=== MAP PARAMETERS (train) ===\n",
      "p = 0.7332, q = 390.88, r = 982.46, s = 0.4906, σ = 3.0144\n"
     ]
    }
   ],
   "source": [
    "# ─── 6. MAP FIT ────────────────────────────────────────────────────────────────\n",
    "x0 = np.array([0.1, 100.0, 1000.0, 0.1, np.log(1.0)])\n",
    "bounds = [(0,1),(10,1e5),(1,1e6),(0,1),(np.log(1e-6), np.log(1e2))]\n",
    "res_map = minimize(neg_log_posterior, x0, args=(DF_train, t_train, y_train), bounds=bounds, method='L-BFGS-B')\n",
    "params_map = res_map.x\n",
    "\n",
    "# unpack\n",
    "p_map, q_map, r_map, s_map, log_sigma_map = params_map\n",
    "sigma_map = np.exp(log_sigma_map)\n",
    "print(\"=== MAP PARAMETERS (train) ===\")\n",
    "print(f\"p = {p_map:.4f}, q = {q_map:.2f}, r = {r_map:.2f}, s = {s_map:.4f}, σ = {sigma_map:.4f}\")"
   ]
  },
  {
   "cell_type": "code",
   "execution_count": 8,
   "id": "c2f88bbe-584f-470e-8a29-8e638eea0869",
   "metadata": {},
   "outputs": [
    {
     "name": "stdout",
     "output_type": "stream",
     "text": [
      "\n",
      "=== TRAINING METRICS ===\n",
      "R² = 0.9661, MSE = 9.0903, RMSE = 3.0150, Acc = 94.41%\n",
      "\n",
      "=== TEST METRICS ===\n",
      "R² = 0.9584, MSE = 9.1213, RMSE = 3.0202, Acc = 94.89%\n"
     ]
    }
   ],
   "source": [
    "# ─── 7. PREDICT & EVALUATE ────────────────────────────────────────────────────\n",
    "def mse(y_true, y_pred): return np.mean((y_true - y_pred)**2)\n",
    "def rmse(y_true, y_pred): return np.sqrt(mse(y_true, y_pred))\n",
    "def r2(y_true, y_pred): return 1 - np.sum((y_true - y_pred)**2)/np.sum((y_true - y_true.mean())**2)\n",
    "def accuracy_pct(y_true, y_pred): return 100 - np.mean(np.abs((y_true - y_pred)/y_true))*100\n",
    "\n",
    "y_pred_train = model_moles((p_map,q_map,r_map,s_map), DF_train, t_train)\n",
    "y_pred_test  = model_moles((p_map,q_map,r_map,s_map), DF_test,  t_test)\n",
    "\n",
    "print(\"\\n=== TRAINING METRICS ===\")\n",
    "print(f\"R² = {r2(y_train, y_pred_train):.4f}, MSE = {mse(y_train, y_pred_train):.4f}, RMSE = {rmse(y_train, y_pred_train):.4f}, Acc = {accuracy_pct(y_train, y_pred_train):.2f}%\")\n",
    "print(\"\\n=== TEST METRICS ===\")\n",
    "print(f\"R² = {r2(y_test, y_pred_test):.4f}, MSE = {mse(y_test, y_pred_test):.4f}, RMSE = {rmse(y_test, y_pred_test):.4f}, Acc = {accuracy_pct(y_test, y_pred_test):.2f}%\")"
   ]
  },
  {
   "cell_type": "code",
   "execution_count": 9,
   "id": "759d6528-7f0e-4462-b8bc-d907d26d0468",
   "metadata": {},
   "outputs": [
    {
     "name": "stdout",
     "output_type": "stream",
     "text": [
      "t90: 3311.2s (0.920h) to reach 65.99%\n",
      "Initial slope: 97.1394 %/hr\n",
      "Final conversion: 73.3205 %\n"
     ]
    }
   ],
   "source": [
    "# ─── 8. ADDITIONAL METRICS & PLOT ───────────────────────────────────────────────\n",
    "tt = np.linspace(0, t_full.max(), 1000)\n",
    "DF_interp = np.interp(tt, t_full, DF_full)\n",
    "y_fit = model_moles((p_map,q_map,r_map,s_map), DF_interp, tt)\n",
    "\n",
    "# t90: 90% of max fit\n",
    "d_max = y_fit.max()\n",
    "if d_max > 0:\n",
    "    from numpy import interp as npi\n",
    "    target = 0.9 * d_max\n",
    "    t90 = npi(target, y_fit, tt)\n",
    "    print(f\"t90: {t90*3600:.1f}s ({t90:.3f}h) to reach {target:.2f}%\")\n",
    "\n",
    "# initial slope (%/hr) over first 900s\n",
    "mask = (t_full*3600) <= 900\n",
    "if mask.sum() > 1:\n",
    "    slope = np.polyfit(t_full[mask], nexp_full[mask], 1)[0]\n",
    "    print(f\"Initial slope: {slope:.4f} %/hr\")\n",
    "\n",
    "# final conversion (<100%)\n",
    "final_conv = y_fit[-1]\n",
    "print(f\"Final conversion: {final_conv:.4f} %\")\n"
   ]
  },
  {
   "cell_type": "code",
   "execution_count": 10,
   "id": "e6b5c5aa-aa97-4c88-9bed-2120786ba369",
   "metadata": {},
   "outputs": [
    {
     "data": {
      "image/png": "[encoded data removed]",
      "text/plain": [
       "<Figure size 800x500 with 1 Axes>"
      ]
     },
     "metadata": {},
     "output_type": "display_data"
    }
   ],
   "source": [
    "# ─── 9. PLOT ───────────────────────────────────────────────────────────────────\n",
    "plt.figure(figsize=(8,5))\n",
    "plt.scatter(t_full, nexp_full, color='red', alpha=0.5, label='Exp (all)')\n",
    "plt.plot(tt, y_fit, color='black', lw=2, label='MAP fit')\n",
    "if y_fit.max()>=d_max:\n",
    "    plt.axvline(t90, linestyle='--', label=f't90 = {t90*3600:.0f}s')\n",
    "plt.xlabel('Time (hours)')\n",
    "plt.ylabel('Water Conversion (%)')\n",
    "plt.title('MAP Fit and Conversion Metrics')\n",
    "plt.legend()\n",
    "plt.tight_layout()\n",
    "plt.show()\n"
   ]
  },
  {
   "cell_type": "code",
   "execution_count": null,
   "id": "a691c3da-9d41-4e5c-9d66-7edb9647b5eb",
   "metadata": {},
   "outputs": [],
   "source": []
  }
 ],
 "metadata": {
  "kernelspec": {
   "display_name": "Python 3 (ipykernel)",
   "language": "python",
   "name": "python3"
  },
  "language_info": {
   "codemirror_mode": {
    "name": "ipython",
    "version": 3
   },
   "file_extension": ".py",
   "mimetype": "text/x-python",
   "name": "python",
   "nbconvert_exporter": "python",
   "pygments_lexer": "ipython3",
   "version": "3.12.7"
  }
 },
 "nbformat": 4,
 "nbformat_minor": 5
}
