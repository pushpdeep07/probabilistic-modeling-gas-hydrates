{
 "cells": [
  {
   "cell_type": "code",
   "execution_count": 1,
   "id": "1ba970a7-2c6a-4e3a-86f2-db68a2638fe7",
   "metadata": {},
   "outputs": [],
   "source": [
    "import numpy as np\n",
    "import pandas as pd\n",
    "from scipy.optimize import minimize\n",
    "import matplotlib.pyplot as plt"
   ]
  },
  {
   "cell_type": "code",
   "execution_count": 2,
   "id": "00d52533-e5ba-4e8c-9844-3e8687d088f8",
   "metadata": {},
   "outputs": [
    {
     "name": "stdout",
     "output_type": "stream",
     "text": [
      "Pe_full (MPa): [7.4984296 7.4879874 7.4780681 7.4782847 7.4682085]\n",
      "t_full  (h) : [0.         0.00111111 0.00222222 0.00333333 0.00444444]\n"
     ]
    }
   ],
   "source": [
    "# ─── 1. LOAD DATA FROM EXCEL ────────────────────────────────────────────────────\n",
    "# 1) Telling pandas “there is no header row” so every row is data, and columns get numeric names 0,1,2,...\n",
    "df = pd.read_excel(\n",
    "    r'C:\\Users\\Dell\\data_reactor\\500 ml\\TRYPTOPHAN\\0.25 wt %\\NO PACK\\nopack_0.25wt_tryp_r1.xlsx',\n",
    "    sheet_name=0,\n",
    "    header=None\n",
    ")\n",
    "\n",
    "# 2) Pressure and Time\n",
    "pressure_kPa = df[6]\n",
    "time_s       = df[8]\n",
    "\n",
    "# 3) Drop the rows that failed to parse as numbers\n",
    "mask = pressure_kPa.notna() & time_s.notna()\n",
    "pressure_kPa = pressure_kPa[mask].astype(float)\n",
    "time_s       = time_s[mask].astype(float)\n",
    "\n",
    "# 4) Units conversion\n",
    "Pe_full = pressure_kPa.to_numpy() / 10.0     # → MPa\n",
    "t_full  = time_s.to_numpy()       / 3600.0  # → hours\n",
    "\n",
    "# Quick check\n",
    "print(\"Pe_full (MPa):\", Pe_full[:5])\n",
    "print(\"t_full  (h) :\", t_full[:5])"
   ]
  },
  {
   "cell_type": "code",
   "execution_count": 3,
   "id": "b45f84aa-7d50-48f8-bd11-2baf6876b639",
   "metadata": {},
   "outputs": [],
   "source": [
    "# ─── 2. CONSTANTS & THERMODYNAMIC PREP ─────────────────────────────────────────\n",
    "Ar = np.pi * (0.075 ** 2) / 4\n",
    "R  = 8.314\n",
    "\n",
    "# peter atkins - physical chemistry\n",
    "# Introduction to chemical engineering thermodynamics by J.M. Smith - page - 650+\n",
    "Tc, Pc, w, T = 190.6, 4.599, 0.012, 274.15\n",
    "Tr = T / Tc\n",
    "\n",
    "# compressibility factor z (Pitzer)\n",
    "a = (0.083 - 0.422*(Tc/T)**1.6)*(Tc/Pc)\n",
    "b = w*(0.139 - 0.172*(Tc/T)**4.2)*(Tc/Pc)\n",
    "z = 1 + a*(Pe_full/T) + b*(Pe_full/T)\n",
    "\n",
    "# experimental moles (nexp)\n",
    "v = 0.3674640599\n",
    "n_water = 7.334773592\n",
    "nd    = 5.75\n",
    "nexp = ((7500000)/(0.828026351079252) - (Pe_full*1e6)/(z))*(v/(R*T)) # here nexp is in millimoles\n",
    "nexp_full = ((nexp/n_water)*nd)/10\n",
    "\n",
    "# fugacity coefficent & potentials (hydrate & liquid)\n",
    "# pengrobinson eqn\n",
    "m     = 0.37464 + 1.54226*w - 0.26992*w**2\n",
    "alfa  = (m*(1 - np.sqrt(Tr)))**2\n",
    "arel  = ((0.45724*(R*Tc)**2)/((Pc)*alfa))\n",
    "brel  = 0.0778*R*Tc/(Pc)\n",
    "A     = arel*(Pe_full)/(R*T)**2\n",
    "B     = brel*(Pe_full)/(R*T)\n",
    "fh    = np.exp(z - 1 - np.log(z - B)\n",
    "             - A/(2*np.sqrt(2*B))\n",
    "             * np.log((z+(1+np.sqrt(2))*B)/(z+(1-np.sqrt(2))*B)))\n",
    "fg    = fh * Pe_full\n",
    "\n",
    "# adsorption term (van der Waals p-model)\n",
    "AsmL, BsmL = 3.7237e3, 2.7088e-3\n",
    "Alar, Blar = 1.8372e2, 2.7379e-3\n",
    "Csmall     = (AsmL/T)*np.exp(BsmL/T)\n",
    "Clarge     = (Alar/T)*np.exp(Blar/T)\n",
    "hydrate_pot      = (1/23)*np.log(1 + (Csmall*fg)) + (3/23)*np.log(1 + (Clarge*fg))\n",
    "\n",
    "# thermochemical term\n",
    "muo   = 1120\n",
    "fterm = muo/(R*273.15)\n",
    "#enthalpy = (\n",
    " #   -4297*(1/273.15 - 1/T)\n",
    "  #  - 34.583*(np.log(T/273.15) + 273.15/T - 1)\n",
    "   # + 0.189*(\n",
    "    #    273.15*(np.log(273.15)-np.log(T))\n",
    "     #   + (273.15**2)/(2*T + T/2 - 273.15)\n",
    "#    )\n",
    "#)\n",
    "enthalpy = (1/8.314)*(np.log(T/273.15)*(-34.583 - 0.189*273.15) + (T - 273.15)*(0.189/2 + (0.189/2)*(273.15/T) + 34.583/T - 4297/(T*273.15)))\n",
    "volume = (4.5959e-6*Pe_full*1e6)/(R*273.15)\n",
    "gamma  = 1\n",
    "xw     = (\n",
    "    1\n",
    "    - fg*np.exp(-15.8262 + 1559.0631/T)\n",
    "         * np.exp(-(32*(Pe_full*9.86923 - 1))/(82.06*T))\n",
    ")\n",
    "liquid_pot = fterm - enthalpy + volume - np.log(xw*gamma)\n",
    "\n",
    "# ΔF and RT_fit\n",
    "DF_full = liquid_pot - hydrate_pot\n",
    "RT_fit  = R * 274.15"
   ]
  },
  {
   "cell_type": "code",
   "execution_count": 4,
   "id": "4e7cb0d2-ce8b-41a4-ba26-fef073cdf6e9",
   "metadata": {},
   "outputs": [],
   "source": [
    "# ─── 3. TRAIN/TEST SPLIT ───────────────────────────────────────────────────────\n",
    "np.random.seed(0)\n",
    "N = len(nexp_full)\n",
    "perm = np.random.permutation(N)\n",
    "train_idx = perm[:int(0.8*N)]\n",
    "test_idx  = perm[int(0.8*N):]\n",
    "t_train, DF_train, y_train = t_full[train_idx], DF_full[train_idx], nexp_full[train_idx]\n",
    "t_test,  DF_test,  y_test  = t_full[test_idx],  DF_full[test_idx],  nexp_full[test_idx]"
   ]
  },
  {
   "cell_type": "code",
   "execution_count": 5,
   "id": "360d2b46-1509-442e-81bb-3b3b520821b7",
   "metadata": {},
   "outputs": [],
   "source": [
    "# ─── 4. MODEL & NEG LOG-LIKELIHOOD ─────────────────────────────────────────────\n",
    "def model_moles(params, DF, t):\n",
    "    p, q, r, s = params\n",
    "    expo = np.exp(-r/(R*274.15))\n",
    "    term = (p/nd)*(1 - np.exp(-nd*q*expo*(s/(R*274.15))*Ar*DF*t*3600))\n",
    "    return term*nd*100\n",
    "\n",
    "def neg_log_likelihood(theta, DF, t, y):\n",
    "    p, q, r, s, log_sigma = theta\n",
    "    sigma = np.exp(log_sigma)\n",
    "    y_pred = model_moles((p,q,r,s), DF, t)\n",
    "    resid = y - y_pred\n",
    "    N = len(y)\n",
    "    return 0.5*N*np.log(2*np.pi*sigma**2) + 0.5*np.sum(resid**2)/sigma**2"
   ]
  },
  {
   "cell_type": "code",
   "execution_count": 6,
   "id": "a343742b-95ca-46e9-adf3-24cd9d80c8c7",
   "metadata": {},
   "outputs": [
    {
     "name": "stdout",
     "output_type": "stream",
     "text": [
      "=== MLE Parameters ===\n",
      "p=0.6840, q=766.88, r=714.33, s=0.2174, σ=1.8446\n"
     ]
    }
   ],
   "source": [
    "# ─── 5. MLE FIT ────────────────────────────────────────────────────────────────\n",
    "x0 = [0.1,150.0,1000.0,0.1,np.log(1.0)]\n",
    "bounds = [(0,1),(10,1e5),(1,1e6),(0,1),(np.log(1e-6),np.log(1e2))]\n",
    "res = minimize(neg_log_likelihood, x0, args=(DF_train,t_train,y_train), bounds=bounds, method='L-BFGS-B')\n",
    "p_mle, q_mle, r_mle, s_mle, log_sigma_mle = res.x\n",
    "\n",
    "# ─── 6. PRINT MLE PARAMS ───────────────────────────────────────────────────────\n",
    "sigma_mle = np.exp(log_sigma_mle)\n",
    "print(\"=== MLE Parameters ===\")\n",
    "print(f\"p={p_mle:.4f}, q={q_mle:.2f}, r={r_mle:.2f}, s={s_mle:.4f}, σ={sigma_mle:.4f}\")"
   ]
  },
  {
   "cell_type": "code",
   "execution_count": 7,
   "id": "42750cc4-abde-4ec2-8a79-ad3ac63a738c",
   "metadata": {},
   "outputs": [
    {
     "name": "stdout",
     "output_type": "stream",
     "text": [
      "\n",
      "=== TRAINING SET METRICS ===\n",
      "R²    = 0.9661\n",
      "MSE   = 3.4026\n",
      "RMSE  = 1.8446\n",
      "Acc%  = 97.20%\n",
      "\n",
      "=== TEST SET METRICS ===\n",
      "R²    = 0.9683\n",
      "MSE   = 3.5587\n",
      "RMSE  = 1.8865\n",
      "Acc%  = 96.84%\n"
     ]
    }
   ],
   "source": [
    "# ─── 6. PREDICT & EVALUATE ────────────────────────────────────────────────────\n",
    "# Predictions\n",
    "y_pred_train = model_moles((p_mle,q_mle,r_mle,s_mle), DF_train, t_train)\n",
    "y_pred_test  = model_moles((p_mle,q_mle,r_mle,s_mle), DF_test,  t_test)\n",
    "\n",
    "# Metrics helpers\n",
    "def mse(y_true, y_pred): return np.mean((y_true-y_pred)**2)\n",
    "def rmse(y_true,y_pred): return np.sqrt(mse(y_true,y_pred))\n",
    "def r2(y_true, y_pred):\n",
    "    ss_res = np.sum((y_true-y_pred)**2)\n",
    "    ss_tot = np.sum((y_true - y_true.mean())**2)\n",
    "    return 1 - ss_res/ss_tot\n",
    "def accuracy_pct(y_true,y_pred):\n",
    "    # defines accuracy = 100% - MAPE\n",
    "    mape = np.mean(np.abs((y_true - y_pred)/y_true)) * 100\n",
    "    return 100 - mape\n",
    "\n",
    "# Compute metrics\n",
    "print(\"\\n=== TRAINING SET METRICS ===\")\n",
    "print(f\"R²    = {r2(y_train, y_pred_train):.4f}\")\n",
    "print(f\"MSE   = {mse(y_train, y_pred_train):.4f}\")\n",
    "print(f\"RMSE  = {rmse(y_train, y_pred_train):.4f}\")\n",
    "print(f\"Acc%  = {accuracy_pct(y_train, y_pred_train):.2f}%\")\n",
    "\n",
    "print(\"\\n=== TEST SET METRICS ===\")\n",
    "print(f\"R²    = {r2(y_test, y_pred_test):.4f}\")\n",
    "print(f\"MSE   = {mse(y_test, y_pred_test):.4f}\")\n",
    "print(f\"RMSE  = {rmse(y_test, y_pred_test):.4f}\")\n",
    "print(f\"Acc%  = {accuracy_pct(y_test, y_pred_test):.2f}%\")"
   ]
  },
  {
   "cell_type": "code",
   "execution_count": 8,
   "id": "7cd73832-3627-425e-a321-9fcdf44d4759",
   "metadata": {},
   "outputs": [
    {
     "name": "stdout",
     "output_type": "stream",
     "text": [
      "t90: 3397.0s (0.944h) to reach 61.56%\n",
      "Initial slope: 91.8585 %/hr\n",
      "Final conversion: 68.4037 %\n"
     ]
    }
   ],
   "source": [
    "# ─── 7. ADDITIONAL METRICS & PLOT ───────────────────────────────────────────────\n",
    "tt = np.linspace(0, t_full.max(), 1000)\n",
    "DF_interp = np.interp(tt, t_full, DF_full)\n",
    "y_fit = model_moles((p_mle,q_mle,r_mle,s_mle), DF_interp, tt)\n",
    "\n",
    "# t90: 90% of max fit\n",
    "d_max = y_fit.max()\n",
    "if d_max > 0:\n",
    "    from numpy import interp as npi\n",
    "    target = 0.9 * d_max\n",
    "    t90 = npi(target, y_fit, tt)\n",
    "    print(f\"t90: {t90*3600:.1f}s ({t90:.3f}h) to reach {target:.2f}%\")\n",
    "\n",
    "# initial slope (%/hr) over first 900s\n",
    "mask = (t_full*3600) <= 900\n",
    "if mask.sum() > 1:\n",
    "    slope = np.polyfit(t_full[mask], nexp_full[mask], 1)[0]\n",
    "    print(f\"Initial slope: {slope:.4f} %/hr\")\n",
    "\n",
    "# final conversion (<100%)\n",
    "final_conv = y_fit[-1]\n",
    "print(f\"Final conversion: {final_conv:.4f} %\")\n"
   ]
  },
  {
   "cell_type": "code",
   "execution_count": 9,
   "id": "a11f2c31-6d83-447b-9168-008edbb2eb07",
   "metadata": {},
   "outputs": [
    {
     "data": {
      "image/png": "[encoded data removed]",
      "text/plain": [
       "<Figure size 800x500 with 1 Axes>"
      ]
     },
     "metadata": {},
     "output_type": "display_data"
    }
   ],
   "source": [
    "# ─── 8. PLOT ───────────────────────────────────────────────────────────────────\n",
    "plt.figure(figsize=(8,5))\n",
    "plt.scatter(t_full, nexp_full, color='red', alpha=0.5, label='Exp (all)')\n",
    "plt.plot(tt, y_fit, color='black', lw=2, label='MLE fit')\n",
    "if y_fit.max() >= target:\n",
    "    plt.axvline(t90, linestyle='--', label=f't90 = {t90*3600:.0f}s')\n",
    "plt.xlabel('Time (hours)')\n",
    "plt.ylabel('Water Conversion (%)')\n",
    "plt.title('MLE Fit and Conversion Metrics')\n",
    "plt.legend()\n",
    "plt.tight_layout()\n",
    "plt.show()"
   ]
  },
  {
   "cell_type": "code",
   "execution_count": null,
   "id": "f38b8814-b694-4340-86c6-8ec31014e2f6",
   "metadata": {},
   "outputs": [],
   "source": []
  },
  {
   "cell_type": "code",
   "execution_count": null,
   "id": "267ceec5-d5be-4b2d-a81b-585b878dd49d",
   "metadata": {},
   "outputs": [],
   "source": []
  }
 ],
 "metadata": {
  "kernelspec": {
   "display_name": "Python 3 (ipykernel)",
   "language": "python",
   "name": "python3"
  },
  "language_info": {
   "codemirror_mode": {
    "name": "ipython",
    "version": 3
   },
   "file_extension": ".py",
   "mimetype": "text/x-python",
   "name": "python",
   "nbconvert_exporter": "python",
   "pygments_lexer": "ipython3",
   "version": "3.12.7"
  }
 },
 "nbformat": 4,
 "nbformat_minor": 5
}
